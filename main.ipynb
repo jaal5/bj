{
 "cells": [
  {
   "cell_type": "code",
   "execution_count": 1,
   "id": "613b15f0-2fdb-42fa-bae7-393a31a2dba5",
   "metadata": {},
   "outputs": [],
   "source": [
    "import random\n",
    "# ranks:\n",
    "# 1 -> Ace\n",
    "# 2-10 -> 2-10\n",
    "# 11 -> J\n",
    "# 12 -> Q\n",
    "# 13 -> K\n",
    "\n",
    "class Card:\n",
    "    def __init__(self, rank, suit):\n",
    "        self.rank = rank\n",
    "        self.suit = suit\n",
    "        if self.rank == 1:\n",
    "            self.card_scores = [1, 11]\n",
    "        elif self.rank >= 11 and self.rank <= 13:\n",
    "            self.card_scores = [10, 10]\n",
    "        else:\n",
    "            self.card_scores = [self.rank, self.rank]\n",
    "\n",
    "        if self.rank == 1:\n",
    "            self.short_rank = 'A'\n",
    "        elif self.rank == 11:\n",
    "            self.short_rank = 'J'\n",
    "        elif self.rank == 12:\n",
    "            self.short_rank = 'Q'\n",
    "        elif self.rank == 13:\n",
    "            self.short_rank = 'K'\n",
    "        else:\n",
    "            self.short_rank = str(self.rank)\n",
    "\n",
    "        if self.suit == 'Spades':\n",
    "            self.short_suit = 'S'\n",
    "        elif self.suit == 'Hearts':\n",
    "            self.short_suit = 'H'\n",
    "        elif self.suit == 'Clubs':\n",
    "            self.short_suit = 'C'\n",
    "        else:\n",
    "            self.short_suit = 'D'\n",
    "\n",
    "        self.image_location = 'static/images/{}{}.png'.format(\n",
    "            self.short_rank, self.short_suit)\n",
    "\n",
    "    def __repr__(self):\n",
    "        if self.rank == 1:\n",
    "            true_rank = 'Ace'\n",
    "        elif self.rank == 11:\n",
    "            true_rank = 'Jack'\n",
    "        elif self.rank == 12:\n",
    "            true_rank = 'Queen'\n",
    "        elif self.rank == 13:\n",
    "            true_rank = 'King'\n",
    "        else:\n",
    "            true_rank = str(self.rank)\n",
    "        return '{} of {}'.format(true_rank, self.suit)\n",
    "\n",
    "suits = ('Spades', 'Hearts', 'Clubs', 'Diamonds')\n",
    "\n",
    "class Deck:\n",
    "    def __init__(self, number_of_decks):\n",
    "        self.number_of_decks = number_of_decks\n",
    "        self.cards = []\n",
    "        self.create(self.number_of_decks)\n",
    "\n",
    "    def __repr__(self):\n",
    "        return 'Game deck has {} cards remaining'.format(len(self.cards))\n",
    "\n",
    "    def create(self, number_of_decks):\n",
    "        decks = [Card(rank, suit) for suit in suits for rank in range(1, 14)\n",
    "                 for deck in range(number_of_decks)]\n",
    "        decks = random.sample(decks, len(decks))\n",
    "        self.cards.extend(decks)\n",
    "\n",
    "    def draw(self):\n",
    "        drawn_card = self.cards[0]\n",
    "        self.cards.remove(self.cards[0])\n",
    "        return drawn_card\n",
    "\n",
    "    def reset(self):\n",
    "        self.cards = []\n",
    "        self.create(self.number_of_decks)"
   ]
  },
  {
   "cell_type": "code",
   "execution_count": 2,
   "id": "591b010a-711a-4023-a13e-7206695dba2c",
   "metadata": {},
   "outputs": [],
   "source": [
    "class Rules:\n",
    "    def __init__(self):\n",
    "        self.dealersoft17 = 'stand' #instert 'stand' or 'hit' for dealer on soft 17\n",
    "        self.blackjack = 1.5 #insert multiplier in case of Blackjack on initial hand\n",
    "        self.doubledown = [9,10,11] #insert ranks of cards that can be doubled\n",
    "        self.doublesoft = False\n",
    "        self.doubleaftersplit = True #insert if Player can double after split\n",
    "        self.splitaces = True #insert if Player can split Aces\n",
    "        self.splitnumber = 3 #insert how many parallel sets Player can have\n",
    "rules = Rules()"
   ]
  },
  {
   "cell_type": "code",
   "execution_count": 239,
   "id": "d2f94a59-d1a3-4864-a4f9-3f800716429e",
   "metadata": {},
   "outputs": [],
   "source": [
    "class Player:\n",
    "    def __init__(self,rules):\n",
    "        self.funding = 0\n",
    "        self.hand_cards = []\n",
    "        self.score = [0,0]\n",
    "        self.options = []\n",
    "        self.rules = rules\n",
    "\n",
    "    def repr(self):\n",
    "        print('Funding: {0} \\nScore: {1} \\noptions: {2}'.format(self.funding, self.hand_cards, self.options))\n",
    "\n",
    "    def refund(self,funds):\n",
    "        self.funding = funds\n",
    "\n",
    "    def initial_draw(self,deck):\n",
    "        self.hand_cards.append(deck.draw())\n",
    "        self.hand_cards.append(deck.draw())\n",
    "        self.calculate_score()\n",
    "        self.calculate_options()\n",
    "\n",
    "    def hit(self,deck):\n",
    "        self.hand_cards.append(deck.draw())\n",
    "        self.calculate_score()\n",
    "        self.calculate_options()\n",
    "        \n",
    "    def stand(self):\n",
    "        self.calculate_score()\n",
    "        self.options = []\n",
    "\n",
    "    def doubledown(self,deck):\n",
    "        self.hand_cards.append(deck.draw())\n",
    "        self.calculate_score()\n",
    "        self.options = []\n",
    "        print(self.options)\n",
    "        \n",
    "    def split(self): #note: doesn't work like this. maybe have to create a new class Hand with all the methods currently in Player. then Player usually has 1 hand, expect when split then it's multiple hands.\n",
    "        split1 = Player(self.rules)\n",
    "        split1.hand_cards = [self.hand_cards[0]]\n",
    "        split1.calculate_score()\n",
    "        split1.calculate_options()\n",
    "        return split1\n",
    "\n",
    "        split2 = self.__class__(self.rules)\n",
    "        split2.hand_cards = [self.hand_cards[1]]\n",
    "        split2.calculate_score()\n",
    "        split2.calculate_options()\n",
    "\n",
    "    def calculate_score(self):\n",
    "        # loop over all cards in hand\n",
    "        self.score = [0,0]\n",
    "        for card in self.hand_cards:\n",
    "            self.score[0] += card.card_scores[0]\n",
    "            self.score[1] += card.card_scores[1]\n",
    "        if self.score[0] == self.score[1]:\n",
    "            print('Current Player score: {0}'.format(self.score[0]))\n",
    "        elif self.score[1] > 21:\n",
    "            print('Current Player score: {0}'.format(self.score[0]))\n",
    "        else:\n",
    "            print('Current Player score: {0} or {1}'.format(self.score[0], self.score[1]))\n",
    "            \n",
    "    def calculate_options(self):\n",
    "        \n",
    "        if len(self.hand_cards) == 2: #initial possibilities after first draw\n",
    "            if any(x in self.score for x in [21]): #in case of blackjack no more options can be done\n",
    "                self.options = ['blackjack']\n",
    "            else: #if not blackjack\n",
    "                if self.rules.doublesoft:\n",
    "                    if any(x in self.score for x in self.rules.doubledown):\n",
    "                        self.options.append('doubledown')\n",
    "                else:\n",
    "                    if self.score[1] in self.rules.doubledown:\n",
    "                        self.options.append('doubledown')\n",
    "                if self.hand_cards[0].card_scores[0] == self.hand_cards[1].card_scores[0]:\n",
    "                    self.options.append('split')\n",
    "                if self.score[0] <= 21:\n",
    "                    self.options.append('hit')\n",
    "                self.options.append('stand')\n",
    "        else: #after other actions have been taken\n",
    "            if self.score[0] > 21:\n",
    "                self.options = ['BUST']\n",
    "        print(self.options)"
   ]
  },
  {
   "cell_type": "code",
   "execution_count": 240,
   "id": "4e19764f-73c8-4bf2-b3c7-7ff3aedeaf50",
   "metadata": {
    "editable": true,
    "slideshow": {
     "slide_type": ""
    },
    "tags": []
   },
   "outputs": [],
   "source": [
    "game_deck = Deck(2)"
   ]
  },
  {
   "cell_type": "code",
   "execution_count": 254,
   "id": "91f022a5-7d61-4f91-b30c-adc679091a82",
   "metadata": {},
   "outputs": [
    {
     "name": "stdout",
     "output_type": "stream",
     "text": [
      "Current Player score: 8\n",
      "['split', 'hit', 'stand']\n"
     ]
    },
    {
     "data": {
      "text/plain": [
       "[4 of Clubs, 4 of Hearts]"
      ]
     },
     "execution_count": 254,
     "metadata": {},
     "output_type": "execute_result"
    }
   ],
   "source": [
    "player1 = Player(rules)\n",
    "player1.initial_draw(game_deck)\n",
    "player1.hand_cards"
   ]
  },
  {
   "cell_type": "code",
   "execution_count": 255,
   "id": "1c0d1def-8525-4e01-8f6b-a6a4b9a2559f",
   "metadata": {},
   "outputs": [
    {
     "name": "stdout",
     "output_type": "stream",
     "text": [
      "Current Player score: 4\n",
      "[]\n"
     ]
    },
    {
     "data": {
      "text/plain": [
       "<__main__.Player at 0x258dadaf950>"
      ]
     },
     "execution_count": 255,
     "metadata": {},
     "output_type": "execute_result"
    }
   ],
   "source": [
    "player1.split()"
   ]
  },
  {
   "cell_type": "code",
   "execution_count": 256,
   "id": "7d5262d9-3b19-4464-8e36-1a16a8c7ed21",
   "metadata": {},
   "outputs": [
    {
     "ename": "NameError",
     "evalue": "name 'split1' is not defined",
     "output_type": "error",
     "traceback": [
      "\u001b[1;31m---------------------------------------------------------------------------\u001b[0m",
      "\u001b[1;31mNameError\u001b[0m                                 Traceback (most recent call last)",
      "Cell \u001b[1;32mIn[256], line 1\u001b[0m\n\u001b[1;32m----> 1\u001b[0m \u001b[43msplit1\u001b[49m\u001b[38;5;241m.\u001b[39mhit()\n",
      "\u001b[1;31mNameError\u001b[0m: name 'split1' is not defined"
     ]
    }
   ],
   "source": [
    "split1.hit()"
   ]
  },
  {
   "cell_type": "markdown",
   "id": "17a23432-64a2-4423-8db6-063c4e55ab71",
   "metadata": {
    "jp-MarkdownHeadingCollapsed": true
   },
   "source": [
    "## Testing"
   ]
  },
  {
   "cell_type": "code",
   "execution_count": 31,
   "id": "972c0b96-b88a-4d27-b06a-db868e65759c",
   "metadata": {},
   "outputs": [
    {
     "name": "stdout",
     "output_type": "stream",
     "text": [
      "Total number of unique cards: 52\n",
      "8 of Clubs: 8\n",
      "8 of Hearts: 8\n",
      "5 of Spades: 8\n",
      "9 of Clubs: 8\n",
      "7 of Hearts: 8\n",
      "Jack of Diamonds: 8\n",
      "7 of Clubs: 8\n",
      "Ace of Clubs: 8\n",
      "9 of Spades: 8\n",
      "4 of Diamonds: 8\n",
      "2 of Hearts: 8\n",
      "6 of Spades: 8\n",
      "Ace of Hearts: 8\n",
      "10 of Spades: 8\n",
      "Queen of Hearts: 8\n",
      "King of Hearts: 8\n",
      "4 of Hearts: 8\n",
      "2 of Diamonds: 8\n",
      "7 of Diamonds: 8\n",
      "2 of Spades: 8\n",
      "3 of Diamonds: 8\n",
      "Queen of Diamonds: 8\n",
      "King of Diamonds: 8\n",
      "5 of Hearts: 8\n",
      "King of Clubs: 8\n",
      "10 of Diamonds: 8\n",
      "3 of Clubs: 8\n",
      "6 of Diamonds: 8\n",
      "8 of Diamonds: 8\n",
      "10 of Hearts: 8\n",
      "3 of Hearts: 8\n",
      "9 of Hearts: 8\n",
      "3 of Spades: 8\n",
      "4 of Clubs: 8\n",
      "Queen of Clubs: 8\n",
      "2 of Clubs: 8\n",
      "5 of Clubs: 8\n",
      "4 of Spades: 8\n",
      "Jack of Spades: 8\n",
      "6 of Hearts: 8\n",
      "Queen of Spades: 8\n",
      "5 of Diamonds: 8\n",
      "8 of Spades: 8\n",
      "King of Spades: 8\n",
      "Jack of Clubs: 8\n",
      "9 of Diamonds: 8\n",
      "Ace of Diamonds: 8\n",
      "Ace of Spades: 8\n",
      "10 of Clubs: 8\n",
      "Jack of Hearts: 8\n",
      "6 of Clubs: 8\n",
      "7 of Spades: 8\n"
     ]
    }
   ],
   "source": [
    "deck = Deck(8)\n",
    "\n",
    "def simulate_draws(num_decks):\n",
    "    \"\"\"Simulate drawing cards from multiple decks.\"\"\"\n",
    "    results = []\n",
    "    for _ in range(52 * num_decks):  # Multiply by number of decks\n",
    "        results.append(str(deck.draw()))\n",
    "    return results\n",
    "\n",
    "def count_cards(cards):\n",
    "    \"\"\"Count occurrences of each card in the list.\"\"\"\n",
    "    counts = {}\n",
    "    for card_instance in cards:\n",
    "        card = str(card_instance)\n",
    "        if card in counts:\n",
    "            counts[card] += 1\n",
    "        else:\n",
    "            counts[card] = 1\n",
    "    return counts\n",
    "results = simulate_draws(deck.number_of_decks)\n",
    "# Use the function to count cards\n",
    "card_counts = count_cards(results)\n",
    "\n",
    "# Optionally, print the total number of unique cards\n",
    "print(f\"Total number of unique cards: {len(card_counts)}\")\n",
    "\n",
    "# Print each card and its count\n",
    "for card, count in card_counts.items():\n",
    "    print(f\"{card}: {count}\")"
   ]
  },
  {
   "cell_type": "markdown",
   "id": "21bdaa40-6fde-483d-8318-ce96590dc811",
   "metadata": {},
   "source": [
    "## Cheatsheet"
   ]
  },
  {
   "cell_type": "code",
   "execution_count": null,
   "id": "bb865613-ac9b-4b0d-8316-f9825e8b8b40",
   "metadata": {},
   "outputs": [],
   "source": [
    "class Player(Dealer):\n",
    "    def __init__(self):\n",
    "        self.cards = []\n",
    "        self.hand_scores = [0, 0]\n",
    "        self.best_outcome = 'Awaiting deal'\n",
    "        self.possible_actions = ['No deal yet']\n",
    "\n",
    "    def __repr__(self):\n",
    "        return 'Player Hand: {}, Scores: {}, Best Outcome: {}'.format(self.cards, list(set(self.hand_scores)), self.best_outcome)\n",
    "\n",
    "    def stand(self, game_play):\n",
    "        self.possible_actions = []\n",
    "        game_play.commentary.append('Player is standing')\n",
    "\n",
    "    def double_down(self, game_deck, game_play):\n",
    "        self.hit(game_deck)\n",
    "        game_play.commentary.append('Player is doubling down')\n",
    "        self.possible_actions = []\n",
    "\n",
    "    def player_hit(self, game_deck, game_play):\n",
    "        self.hit(game_deck)\n",
    "        game_play.commentary.append('Player has hit')\n",
    "        self.get_possibilities(game_play)\n",
    "\n",
    "    def get_possibilities(self, game_play):\n",
    "        if self.best_outcome in ['Blackjack', 'Bust', 21]:\n",
    "            self.possible_actions = []\n",
    "            game_play.commentary.append('Player has no options')\n",
    "        elif len(self.cards) == 2:\n",
    "            self.possible_actions = ['Hit', 'Stand', 'Double Down']\n",
    "            game_play.commentary.append(\n",
    "                'Player can still hit, double down or stand')\n",
    "        else:\n",
    "            self.possible_actions = ['Hit', 'Stand']\n",
    "            game_play.commentary.append('Player can still hit or stand')\n",
    "\n",
    "    def reset(self):\n",
    "        self.cards = []\n",
    "        self.hand_scores = [0, 0]\n",
    "        self.best_outcome = 'Awaiting deal'\n",
    "        self.possible_actions = []\n",
    "        self.has_doubled_down = False"
   ]
  },
  {
   "cell_type": "code",
   "execution_count": null,
   "id": "0bf46cd7-4be4-4504-a0b9-1a45abbfae07",
   "metadata": {},
   "outputs": [],
   "source": []
  },
  {
   "cell_type": "code",
   "execution_count": null,
   "id": "e14e90d0-72a8-4f46-8613-4b161fdc3bff",
   "metadata": {},
   "outputs": [],
   "source": []
  }
 ],
 "metadata": {
  "kernelspec": {
   "display_name": "Python 3 (ipykernel)",
   "language": "python",
   "name": "python3"
  },
  "language_info": {
   "codemirror_mode": {
    "name": "ipython",
    "version": 3
   },
   "file_extension": ".py",
   "mimetype": "text/x-python",
   "name": "python",
   "nbconvert_exporter": "python",
   "pygments_lexer": "ipython3",
   "version": "3.12.6"
  }
 },
 "nbformat": 4,
 "nbformat_minor": 5
}
