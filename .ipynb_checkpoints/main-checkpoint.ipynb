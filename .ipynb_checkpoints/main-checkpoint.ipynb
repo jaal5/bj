{
 "cells": [
  {
   "cell_type": "code",
   "execution_count": 41,
   "id": "613b15f0-2fdb-42fa-bae7-393a31a2dba5",
   "metadata": {},
   "outputs": [],
   "source": [
    "import random\n",
    "from itertools import product\n",
    "\n",
    "# ranks:\n",
    "# 1 -> Ace\n",
    "# 2-10 -> 2-10\n",
    "# 11 -> J\n",
    "# 12 -> Q\n",
    "# 13 -> K\n",
    "\n",
    "class Card:\n",
    "    def __init__(self, rank, suit):\n",
    "        self.rank = rank\n",
    "        self.suit = suit\n",
    "        if self.rank == 1:\n",
    "            self.card_scores = [1, 11]\n",
    "        elif self.rank >= 11 and self.rank <= 13:\n",
    "            self.card_scores = [10, 10]\n",
    "        else:\n",
    "            self.card_scores = [self.rank, self.rank]\n",
    "\n",
    "        if self.rank == 1:\n",
    "            self.short_rank = 'A'\n",
    "        elif self.rank == 11:\n",
    "            self.short_rank = 'J'\n",
    "        elif self.rank == 12:\n",
    "            self.short_rank = 'Q'\n",
    "        elif self.rank == 13:\n",
    "            self.short_rank = 'K'\n",
    "        else:\n",
    "            self.short_rank = str(self.rank)\n",
    "\n",
    "        if self.suit == 'Spades':\n",
    "            self.short_suit = 'S'\n",
    "        elif self.suit == 'Hearts':\n",
    "            self.short_suit = 'H'\n",
    "        elif self.suit == 'Clubs':\n",
    "            self.short_suit = 'C'\n",
    "        else:\n",
    "            self.short_suit = 'D'\n",
    "\n",
    "        self.image_location = 'static/images/{}{}.png'.format(\n",
    "            self.short_rank, self.short_suit)\n",
    "\n",
    "    def __repr__(self):\n",
    "        if self.rank == 1:\n",
    "            true_rank = 'Ace'\n",
    "        elif self.rank == 11:\n",
    "            true_rank = 'Jack'\n",
    "        elif self.rank == 12:\n",
    "            true_rank = 'Queen'\n",
    "        elif self.rank == 13:\n",
    "            true_rank = 'King'\n",
    "        else:\n",
    "            true_rank = str(self.rank)\n",
    "        return '{} of {}'.format(true_rank, self.suit)\n",
    "\n",
    "suits = ('Spades', 'Hearts', 'Clubs', 'Diamonds')\n",
    "\n",
    "class Deck:\n",
    "    def __init__(self, number_of_decks):\n",
    "        self.number_of_decks = number_of_decks\n",
    "        self.cards = []\n",
    "        self.create(self.number_of_decks)\n",
    "\n",
    "    def __repr__(self):\n",
    "        return 'Game deck has {} cards remaining'.format(len(self.cards))\n",
    "\n",
    "    def create(self, number_of_decks):\n",
    "        decks = [Card(rank, suit) for suit in suits for rank in range(1, 14)\n",
    "                 for deck in range(number_of_decks)]\n",
    "        decks = random.sample(decks, len(decks))\n",
    "        self.cards.extend(decks)\n",
    "\n",
    "    def create_test_deck(self,cards):\n",
    "        self.cards = []\n",
    "        for card in cards:\n",
    "            self.cards.append(card)\n",
    "    \n",
    "    def draw(self):\n",
    "        drawn_card = self.cards[0]\n",
    "        self.cards.remove(self.cards[0])\n",
    "        return drawn_card\n",
    "\n",
    "    def reset(self):\n",
    "        self.cards = []\n",
    "        self.create(self.number_of_decks)"
   ]
  },
  {
   "cell_type": "code",
   "execution_count": 2,
   "id": "591b010a-711a-4023-a13e-7206695dba2c",
   "metadata": {},
   "outputs": [],
   "source": [
    "class Rules:\n",
    "    def __init__(self):\n",
    "        self.dealersoft17 = 'stand' #instert 'stand' or 'hit' for dealer on soft 17\n",
    "        self.blackjack = 1.5 #insert multiplier in case of Blackjack on initial hand\n",
    "        self.doubledown = [9,10,11] #insert ranks of cards that can be doubled\n",
    "        self.doublesoft = False\n",
    "        self.doubleaftersplit = True #insert if Player can double after split\n",
    "        self.splitaces = True #insert if Player can split Aces\n",
    "        self.splitnumber = 3 #insert how many parallel sets Player can have\n",
    "        self.peek = True\n",
    "rules = Rules()"
   ]
  },
  {
   "cell_type": "code",
   "execution_count": 76,
   "id": "b1562190-00e0-47e3-b573-17eec241a855",
   "metadata": {},
   "outputs": [],
   "source": [
    "class Hand:\n",
    "    def __init__(self,rules,bet):\n",
    "        self.hand_cards = []\n",
    "        self.score = [0,0]\n",
    "        self.options = []\n",
    "        self.rules = rules\n",
    "        self.hand_bet = bet\n",
    "        \n",
    "    def calculate_score(self):\n",
    "        # loop over all cards in hand\n",
    "        self.score = [0,0]\n",
    "        all_scores = []\n",
    "        for card in self.hand_cards:\n",
    "            all_scores.append(card.card_scores)\n",
    "            \n",
    "        self.score = sorted(list({sum(combination) for \n",
    "                                  combination in \n",
    "                                  product(*all_scores)}))[0:2]\n",
    "        if len(self.score) < 2:\n",
    "            self.score.append(self.score[0])\n",
    "            \n",
    "        if self.score[0] == self.score[1]:\n",
    "            print('Current Hand score: {0}'.format(self.score[0]))\n",
    "        elif self.score[1] > 21:\n",
    "            print('Current Hand score: {0}'.format(self.score[0]))\n",
    "        else:\n",
    "            print('Current Hand score: {0} or {1}'.format(self.score[0], self.score[1]))\n",
    "\n",
    "    def calculate_options(self):\n",
    "        self.options = []\n",
    "        if len(self.hand_cards) == 2: #initial possibilities after first draw\n",
    "            if self.score[1] == 21:\n",
    "                return\n",
    "            if self.rules.doublesoft:\n",
    "                if any(x in self.score for x in self.rules.doubledown):\n",
    "                    self.options.append('doubledown')\n",
    "            else:\n",
    "                if self.score[1] in self.rules.doubledown:\n",
    "                    self.options.append('doubledown')\n",
    "            if self.hand_cards[0].card_scores[0] == self.hand_cards[1].card_scores[0]:\n",
    "                self.options.append('split')\n",
    "            if self.score[0] <= 21:\n",
    "                self.options.append('hit')\n",
    "            self.options.append('stand')\n",
    "        else: #after other actions have been taken\n",
    "            if self.score[0] > 21:\n",
    "                self.options = ['BUST']\n",
    "            if self.score[0] <= 21:\n",
    "                self.options.append('hit')\n",
    "                self.options.append('stand')\n",
    "        print(self.options)\n",
    "\n",
    "    def calculate_hand_bet(self):\n",
    "        print(self.hand_bet)\n",
    "        \n",
    "    def show_hand_cards(self):\n",
    "        print(self.hand_cards)\n",
    "\n",
    "    def hit(self,deck,num_cards):\n",
    "        for i in range(0,num_cards):\n",
    "            self.hand_cards.append(deck.draw())\n",
    "        self.calculate_score()\n",
    "        self.show_hand_cards()\n",
    "        self.calculate_options()\n",
    "        self.calculate_hand_bet()\n",
    "        \n",
    "    def stand(self):\n",
    "        self.calculate_score()\n",
    "        self.show_hand_cards()\n",
    "        self.options = ['none']\n",
    "        self.calculate_hand_bet()\n",
    "\n",
    "    def doubledown(self,deck):\n",
    "        self.hand_bet = 2*self.hand_bet\n",
    "        self.hand_cards.append(deck.draw())\n",
    "        self.calculate_score()\n",
    "        if self.score[0] > 21:\n",
    "            self.options = ['BUST']\n",
    "        else:\n",
    "            self.options = ['none']\n",
    "        self.show_hand_cards()\n",
    "        print(self.options)\n",
    "        self.calculate_hand_bet()\n",
    "\n",
    "class Player:\n",
    "    def __init__(self,rules):\n",
    "        self.funding = 0\n",
    "        self.hands = []\n",
    "        self.score = [0,0]\n",
    "        self.player_options = []\n",
    "        self.rules = rules\n",
    "\n",
    "    def refund(self,funds):\n",
    "        self.funding = funds\n",
    "    \n",
    "    def initiate(self, deck, bet = 0):\n",
    "        self.bet = bet\n",
    "        self.reset_hands()\n",
    "        self.add_hand()\n",
    "        self.hands[0].hit(deck,2)\n",
    "\n",
    "        if any(x in self.hands[0].score for x in [21]): #in case of blackjack no more options can be done\n",
    "            self.options = ['blackjack']\n",
    "            print('blackjack on initial')\n",
    "    \n",
    "    def add_hand(self):\n",
    "        hand = Hand(self.rules, self.bet)\n",
    "        self.hands.append(hand)\n",
    "\n",
    "    def show_options(self, hand_index):\n",
    "        print(self.hands[hand_index].options)\n",
    "    \n",
    "    def reset_hands(self):\n",
    "        self.hands = []\n",
    "\n",
    "    def hit(self, deck, hand_index):\n",
    "        self.hands[hand_index].hit(deck,1)\n",
    "\n",
    "    def stand(self, hand_index):\n",
    "        self.hands[hand_index].stand()\n",
    "\n",
    "    def doubledown(self, deck, hand_index):\n",
    "        self.hands[hand_index].doubledown(deck)\n",
    "\n",
    "    def split(self, deck, hand_index):\n",
    "        hand = Hand(self.rules, self.bet)\n",
    "        hand.hand_cards.append(self.hands[hand_index].hand_cards[1])\n",
    "        self.hands[hand_index].hand_cards.pop()\n",
    "        \n",
    "        self.hands.append(hand)\n",
    "\n",
    "        for i in [hand_index,len(self.hands)-1]:\n",
    "            self.hands[i].hit(deck,1)\n",
    "\n",
    "class Dealer:\n",
    "    def __init__(self,rules):\n",
    "        self.hand_cards = []\n",
    "        self.score = [0,0]\n",
    "        self.options = []\n",
    "        self.rules = rules\n",
    "        \n",
    "    def calculate_score(self, initial = False):\n",
    "        # loop over all cards in hand\n",
    "       \n",
    "        if initial:\n",
    "            self.score = [0,0]\n",
    "            self.score[0] += self.hand_cards[0].card_scores[0]\n",
    "            self.score[1] += self.hand_cards[0].card_scores[1]\n",
    "        else:\n",
    "            self.score = [0,0]\n",
    "            all_scores = []\n",
    "            for card in self.hand_cards:\n",
    "                all_scores.append(card.card_scores)\n",
    "                \n",
    "            self.score = sorted(list({sum(combination) for \n",
    "                                      combination in \n",
    "                                      product(*all_scores)}))[0:2]\n",
    "            if len(self.score) < 2:\n",
    "                self.score.append(self.score[0])\n",
    "        \n",
    "        if self.score[0] == self.score[1]:\n",
    "            print('Current Hand score: {0}'.format(self.score[0]))\n",
    "        elif self.score[1] > 21:\n",
    "            print('Current Hand score: {0}'.format(self.score[0]))\n",
    "        else:\n",
    "            print('Current Hand score: {0} or {1}'.format(self.score[0], self.score[1]))     \n",
    "    \n",
    "    def initiate(self, deck):\n",
    "        self.reset_hand()\n",
    "        self.hand_cards.append(deck.draw())\n",
    "        self.hand_cards.append(deck.draw())\n",
    "\n",
    "        self.calculate_score(initial = True)\n",
    "        if self.hand_cards[0].rank == 1:\n",
    "            self.options = ['peek']\n",
    "        else:\n",
    "            self.options = ['reveal']\n",
    "        print(self.options)\n",
    "        \n",
    "    def reveal(self):\n",
    "        self.calculate_score()\n",
    "        self.calculate_options()\n",
    "    \n",
    "    def hit(self, deck):\n",
    "        self.hand_cards.append(deck.draw())\n",
    "\n",
    "        self.calculate_score()\n",
    "        self.calculate_options()\n",
    "\n",
    "    def peek(self):\n",
    "        if self.hand_cards[1].rank in [10,11,12,13]:\n",
    "            self.options = ['blackjack']\n",
    "        else:\n",
    "            self.options = ['reveal']\n",
    "        print(self.options)\n",
    "    \n",
    "    def calculate_options(self):\n",
    "        self.options = []\n",
    "        if self.score[0] == self.score[1]:\n",
    "            if self.score[0] < 17:\n",
    "                self.options.append('hit')\n",
    "            elif 17 <= self.score[0] < 21:\n",
    "                self.options.append('none')\n",
    "            else:\n",
    "                self.options.append('BUST')\n",
    "        else:\n",
    "            if 17 <= self.score[1] < 21:\n",
    "                self.options.append('none')\n",
    "            elif self.score[0] > 21:\n",
    "                self.options.append('BUST')\n",
    "            else:\n",
    "                self.options.append('hit')\n",
    "        print(self.options)\n",
    "        \n",
    "    def reset_hand(self):\n",
    "        self.hand_cards = []"
   ]
  },
  {
   "cell_type": "code",
   "execution_count": 77,
   "id": "699bd658-dd63-49c8-828b-e2d97b8d8c7d",
   "metadata": {},
   "outputs": [],
   "source": [
    "test_deck = Deck(1)\n",
    "test_deck.create_test_deck([Card(1,'Hearts'),\n",
    "                                       Card(1,'Spades'),\n",
    "                           Card(2,'Hearts'),\n",
    "                           Card(3,'Diamonds')])"
   ]
  },
  {
   "cell_type": "code",
   "execution_count": 86,
   "id": "b405aa56-821d-482b-96aa-4d29375222fd",
   "metadata": {},
   "outputs": [],
   "source": [
    "game_deck = Deck(1)"
   ]
  },
  {
   "cell_type": "code",
   "execution_count": 87,
   "id": "58c52740-8af3-4335-b504-f8f3787c86dd",
   "metadata": {},
   "outputs": [],
   "source": [
    "player = Player(rules)\n",
    "dealer = Dealer(rules)"
   ]
  },
  {
   "cell_type": "code",
   "execution_count": 88,
   "id": "7740456a-146d-47e4-a597-9f8201992501",
   "metadata": {},
   "outputs": [
    {
     "data": {
      "text/plain": [
       "'Game deck has 52 cards remaining'"
      ]
     },
     "execution_count": 88,
     "metadata": {},
     "output_type": "execute_result"
    }
   ],
   "source": [
    "game_deck.__repr__()"
   ]
  },
  {
   "cell_type": "code",
   "execution_count": 89,
   "id": "3cf1797f-f80e-4331-b1c9-ecc3e15f1fcb",
   "metadata": {},
   "outputs": [
    {
     "name": "stdout",
     "output_type": "stream",
     "text": [
      "Current Hand score: 11 or 21\n",
      "[Ace of Hearts, 10 of Hearts]\n",
      "0\n",
      "blackjack on initial\n"
     ]
    }
   ],
   "source": [
    "player.initiate(game_deck)"
   ]
  },
  {
   "cell_type": "code",
   "execution_count": 90,
   "id": "c52ac208-2f41-4d9d-bc7c-ad4e6aead5f5",
   "metadata": {},
   "outputs": [
    {
     "name": "stdout",
     "output_type": "stream",
     "text": [
      "Current Hand score: 4\n",
      "['reveal']\n"
     ]
    }
   ],
   "source": [
    "dealer.initiate(game_deck)"
   ]
  },
  {
   "cell_type": "code",
   "execution_count": 91,
   "id": "7dd3d2f6-a86e-45b1-83f5-aa67f8d3ad33",
   "metadata": {},
   "outputs": [
    {
     "data": {
      "text/plain": [
       "'Game deck has 48 cards remaining'"
      ]
     },
     "execution_count": 91,
     "metadata": {},
     "output_type": "execute_result"
    }
   ],
   "source": [
    "game_deck.__repr__()"
   ]
  },
  {
   "cell_type": "code",
   "execution_count": 92,
   "id": "4db826df-e5aa-4379-bbaf-928f881a705b",
   "metadata": {},
   "outputs": [
    {
     "name": "stdout",
     "output_type": "stream",
     "text": [
      "Current Hand score: 14\n",
      "['hit']\n"
     ]
    }
   ],
   "source": [
    "dealer.reveal()"
   ]
  },
  {
   "cell_type": "code",
   "execution_count": 93,
   "id": "955d0244-b7b6-46ff-8cc7-eac8f03e6154",
   "metadata": {},
   "outputs": [
    {
     "data": {
      "text/plain": [
       "'Game deck has 48 cards remaining'"
      ]
     },
     "execution_count": 93,
     "metadata": {},
     "output_type": "execute_result"
    }
   ],
   "source": [
    "game_deck.__repr__()"
   ]
  },
  {
   "cell_type": "code",
   "execution_count": 94,
   "id": "68acfb51-7731-4928-aac1-51d582ca1873",
   "metadata": {},
   "outputs": [
    {
     "name": "stdout",
     "output_type": "stream",
     "text": [
      "Current Hand score: 17\n",
      "['none']\n"
     ]
    }
   ],
   "source": [
    "dealer.hit(game_deck)"
   ]
  },
  {
   "cell_type": "code",
   "execution_count": 95,
   "id": "976c2652-fcfa-4089-a540-806ce63cfca4",
   "metadata": {},
   "outputs": [
    {
     "data": {
      "text/plain": [
       "'Game deck has 47 cards remaining'"
      ]
     },
     "execution_count": 95,
     "metadata": {},
     "output_type": "execute_result"
    }
   ],
   "source": [
    "game_deck.__repr__()"
   ]
  },
  {
   "cell_type": "markdown",
   "id": "17a23432-64a2-4423-8db6-063c4e55ab71",
   "metadata": {
    "jp-MarkdownHeadingCollapsed": true
   },
   "source": [
    "## Testing"
   ]
  },
  {
   "cell_type": "code",
   "execution_count": 31,
   "id": "972c0b96-b88a-4d27-b06a-db868e65759c",
   "metadata": {},
   "outputs": [
    {
     "name": "stdout",
     "output_type": "stream",
     "text": [
      "Total number of unique cards: 52\n",
      "8 of Clubs: 8\n",
      "8 of Hearts: 8\n",
      "5 of Spades: 8\n",
      "9 of Clubs: 8\n",
      "7 of Hearts: 8\n",
      "Jack of Diamonds: 8\n",
      "7 of Clubs: 8\n",
      "Ace of Clubs: 8\n",
      "9 of Spades: 8\n",
      "4 of Diamonds: 8\n",
      "2 of Hearts: 8\n",
      "6 of Spades: 8\n",
      "Ace of Hearts: 8\n",
      "10 of Spades: 8\n",
      "Queen of Hearts: 8\n",
      "King of Hearts: 8\n",
      "4 of Hearts: 8\n",
      "2 of Diamonds: 8\n",
      "7 of Diamonds: 8\n",
      "2 of Spades: 8\n",
      "3 of Diamonds: 8\n",
      "Queen of Diamonds: 8\n",
      "King of Diamonds: 8\n",
      "5 of Hearts: 8\n",
      "King of Clubs: 8\n",
      "10 of Diamonds: 8\n",
      "3 of Clubs: 8\n",
      "6 of Diamonds: 8\n",
      "8 of Diamonds: 8\n",
      "10 of Hearts: 8\n",
      "3 of Hearts: 8\n",
      "9 of Hearts: 8\n",
      "3 of Spades: 8\n",
      "4 of Clubs: 8\n",
      "Queen of Clubs: 8\n",
      "2 of Clubs: 8\n",
      "5 of Clubs: 8\n",
      "4 of Spades: 8\n",
      "Jack of Spades: 8\n",
      "6 of Hearts: 8\n",
      "Queen of Spades: 8\n",
      "5 of Diamonds: 8\n",
      "8 of Spades: 8\n",
      "King of Spades: 8\n",
      "Jack of Clubs: 8\n",
      "9 of Diamonds: 8\n",
      "Ace of Diamonds: 8\n",
      "Ace of Spades: 8\n",
      "10 of Clubs: 8\n",
      "Jack of Hearts: 8\n",
      "6 of Clubs: 8\n",
      "7 of Spades: 8\n"
     ]
    }
   ],
   "source": [
    "deck = Deck(8)\n",
    "\n",
    "def simulate_draws(num_decks):\n",
    "    \"\"\"Simulate drawing cards from multiple decks.\"\"\"\n",
    "    results = []\n",
    "    for _ in range(52 * num_decks):  # Multiply by number of decks\n",
    "        results.append(str(deck.draw()))\n",
    "    return results\n",
    "\n",
    "def count_cards(cards):\n",
    "    \"\"\"Count occurrences of each card in the list.\"\"\"\n",
    "    counts = {}\n",
    "    for card_instance in cards:\n",
    "        card = str(card_instance)\n",
    "        if card in counts:\n",
    "            counts[card] += 1\n",
    "        else:\n",
    "            counts[card] = 1\n",
    "    return counts\n",
    "results = simulate_draws(deck.number_of_decks)\n",
    "# Use the function to count cards\n",
    "card_counts = count_cards(results)\n",
    "\n",
    "# Optionally, print the total number of unique cards\n",
    "print(f\"Total number of unique cards: {len(card_counts)}\")\n",
    "\n",
    "# Print each card and its count\n",
    "for card, count in card_counts.items():\n",
    "    print(f\"{card}: {count}\")"
   ]
  },
  {
   "cell_type": "markdown",
   "id": "21bdaa40-6fde-483d-8318-ce96590dc811",
   "metadata": {},
   "source": [
    "## Cheatsheet"
   ]
  },
  {
   "cell_type": "code",
   "execution_count": null,
   "id": "bb865613-ac9b-4b0d-8316-f9825e8b8b40",
   "metadata": {},
   "outputs": [],
   "source": [
    "class Player(Dealer):\n",
    "    def __init__(self):\n",
    "        self.cards = []\n",
    "        self.hand_scores = [0, 0]\n",
    "        self.best_outcome = 'Awaiting deal'\n",
    "        self.possible_actions = ['No deal yet']\n",
    "\n",
    "    def __repr__(self):\n",
    "        return 'Player Hand: {}, Scores: {}, Best Outcome: {}'.format(self.cards, list(set(self.hand_scores)), self.best_outcome)\n",
    "\n",
    "    def stand(self, game_play):\n",
    "        self.possible_actions = []\n",
    "        game_play.commentary.append('Player is standing')\n",
    "\n",
    "    def double_down(self, game_deck, game_play):\n",
    "        self.hit(game_deck)\n",
    "        game_play.commentary.append('Player is doubling down')\n",
    "        self.possible_actions = []\n",
    "\n",
    "    def player_hit(self, game_deck, game_play):\n",
    "        self.hit(game_deck)\n",
    "        game_play.commentary.append('Player has hit')\n",
    "        self.get_possibilities(game_play)\n",
    "\n",
    "    def get_possibilities(self, game_play):\n",
    "        if self.best_outcome in ['Blackjack', 'Bust', 21]:\n",
    "            self.possible_actions = []\n",
    "            game_play.commentary.append('Player has no options')\n",
    "        elif len(self.cards) == 2:\n",
    "            self.possible_actions = ['Hit', 'Stand', 'Double Down']\n",
    "            game_play.commentary.append(\n",
    "                'Player can still hit, double down or stand')\n",
    "        else:\n",
    "            self.possible_actions = ['Hit', 'Stand']\n",
    "            game_play.commentary.append('Player can still hit or stand')\n",
    "\n",
    "    def reset(self):\n",
    "        self.cards = []\n",
    "        self.hand_scores = [0, 0]\n",
    "        self.best_outcome = 'Awaiting deal'\n",
    "        self.possible_actions = []\n",
    "        self.has_doubled_down = False"
   ]
  },
  {
   "cell_type": "code",
   "execution_count": null,
   "id": "0bf46cd7-4be4-4504-a0b9-1a45abbfae07",
   "metadata": {},
   "outputs": [],
   "source": []
  },
  {
   "cell_type": "code",
   "execution_count": null,
   "id": "e14e90d0-72a8-4f46-8613-4b161fdc3bff",
   "metadata": {},
   "outputs": [],
   "source": []
  }
 ],
 "metadata": {
  "kernelspec": {
   "display_name": "Python 3 (ipykernel)",
   "language": "python",
   "name": "python3"
  },
  "language_info": {
   "codemirror_mode": {
    "name": "ipython",
    "version": 3
   },
   "file_extension": ".py",
   "mimetype": "text/x-python",
   "name": "python",
   "nbconvert_exporter": "python",
   "pygments_lexer": "ipython3",
   "version": "3.12.6"
  }
 },
 "nbformat": 4,
 "nbformat_minor": 5
}
